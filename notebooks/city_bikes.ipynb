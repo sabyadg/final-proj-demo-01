{
 "cells": [
  {
   "cell_type": "markdown",
   "metadata": {},
   "source": [
    "# CityBikes"
   ]
  },
  {
   "cell_type": "markdown",
   "metadata": {},
   "source": [
    "Send a request to CityBikes for the city of your choice. "
   ]
  },
  {
   "cell_type": "markdown",
   "metadata": {},
   "source": [
    "Parse through the response to get the details you want for the bike stations in that city (latitude, longitude, number of bikes). "
   ]
  },
  {
   "cell_type": "markdown",
   "metadata": {},
   "source": [
    "Put your parsed results into a DataFrame."
   ]
  },
  {
   "cell_type": "code",
   "execution_count": 1,
   "metadata": {},
   "outputs": [
    {
     "data": {
      "text/html": [
       "<div>\n",
       "<style scoped>\n",
       "    .dataframe tbody tr th:only-of-type {\n",
       "        vertical-align: middle;\n",
       "    }\n",
       "\n",
       "    .dataframe tbody tr th {\n",
       "        vertical-align: top;\n",
       "    }\n",
       "\n",
       "    .dataframe thead th {\n",
       "        text-align: right;\n",
       "    }\n",
       "</style>\n",
       "<table border=\"1\" class=\"dataframe\">\n",
       "  <thead>\n",
       "    <tr style=\"text-align: right;\">\n",
       "      <th></th>\n",
       "      <th>capacity</th>\n",
       "      <th>legacy_id</th>\n",
       "      <th>lon</th>\n",
       "      <th>rental_uris</th>\n",
       "      <th>eightd_has_key_dispenser</th>\n",
       "      <th>station_id</th>\n",
       "      <th>region_id</th>\n",
       "      <th>rental_methods</th>\n",
       "      <th>electric_bike_surcharge_waiver</th>\n",
       "      <th>lat</th>\n",
       "      <th>short_name</th>\n",
       "      <th>external_id</th>\n",
       "      <th>eightd_station_services</th>\n",
       "      <th>station_type</th>\n",
       "      <th>has_kiosk</th>\n",
       "      <th>name</th>\n",
       "    </tr>\n",
       "  </thead>\n",
       "  <tbody>\n",
       "    <tr>\n",
       "      <th>0</th>\n",
       "      <td>22</td>\n",
       "      <td>3896</td>\n",
       "      <td>-73.906250</td>\n",
       "      <td>{'android': 'https://bkn.lft.to/lastmile_qr_sc...</td>\n",
       "      <td>False</td>\n",
       "      <td>26cae473-0e59-4af7-bad5-bb6fec85c8bc</td>\n",
       "      <td>71</td>\n",
       "      <td>[KEY, CREDITCARD]</td>\n",
       "      <td>False</td>\n",
       "      <td>40.701830</td>\n",
       "      <td>4880.11</td>\n",
       "      <td>26cae473-0e59-4af7-bad5-bb6fec85c8bc</td>\n",
       "      <td>[]</td>\n",
       "      <td>classic</td>\n",
       "      <td>True</td>\n",
       "      <td>Madison St &amp; Seneca Ave</td>\n",
       "    </tr>\n",
       "    <tr>\n",
       "      <th>1</th>\n",
       "      <td>22</td>\n",
       "      <td>4084</td>\n",
       "      <td>-73.915400</td>\n",
       "      <td>{'android': 'https://bkn.lft.to/lastmile_qr_sc...</td>\n",
       "      <td>False</td>\n",
       "      <td>545a32d3-b74c-4dc2-b82c-a6d185dd4666</td>\n",
       "      <td>71</td>\n",
       "      <td>[KEY, CREDITCARD]</td>\n",
       "      <td>False</td>\n",
       "      <td>40.835334</td>\n",
       "      <td>8160.03</td>\n",
       "      <td>545a32d3-b74c-4dc2-b82c-a6d185dd4666</td>\n",
       "      <td>[]</td>\n",
       "      <td>classic</td>\n",
       "      <td>True</td>\n",
       "      <td>Sheridan Ave &amp; E 168 St</td>\n",
       "    </tr>\n",
       "    <tr>\n",
       "      <th>2</th>\n",
       "      <td>57</td>\n",
       "      <td>383</td>\n",
       "      <td>-74.000271</td>\n",
       "      <td>{'android': 'https://bkn.lft.to/lastmile_qr_sc...</td>\n",
       "      <td>False</td>\n",
       "      <td>66dbe68e-0aca-11e7-82f6-3863bb44ef7c</td>\n",
       "      <td>71</td>\n",
       "      <td>[KEY, CREDITCARD]</td>\n",
       "      <td>False</td>\n",
       "      <td>40.735238</td>\n",
       "      <td>5914.08</td>\n",
       "      <td>66dbe68e-0aca-11e7-82f6-3863bb44ef7c</td>\n",
       "      <td>[]</td>\n",
       "      <td>classic</td>\n",
       "      <td>True</td>\n",
       "      <td>Greenwich Ave &amp; Charles St</td>\n",
       "    </tr>\n",
       "    <tr>\n",
       "      <th>3</th>\n",
       "      <td>20</td>\n",
       "      <td>4487</td>\n",
       "      <td>-73.937878</td>\n",
       "      <td>{'android': 'https://bkn.lft.to/lastmile_qr_sc...</td>\n",
       "      <td>False</td>\n",
       "      <td>b4974d89-932c-4a9f-a264-2ea0cf70613e</td>\n",
       "      <td>71</td>\n",
       "      <td>[KEY, CREDITCARD]</td>\n",
       "      <td>False</td>\n",
       "      <td>40.855331</td>\n",
       "      <td>8458.03</td>\n",
       "      <td>b4974d89-932c-4a9f-a264-2ea0cf70613e</td>\n",
       "      <td>[]</td>\n",
       "      <td>classic</td>\n",
       "      <td>True</td>\n",
       "      <td>Pinehurst Ave &amp; W 187 St</td>\n",
       "    </tr>\n",
       "    <tr>\n",
       "      <th>4</th>\n",
       "      <td>29</td>\n",
       "      <td>3537</td>\n",
       "      <td>-73.971010</td>\n",
       "      <td>{'android': 'https://bkn.lft.to/lastmile_qr_sc...</td>\n",
       "      <td>False</td>\n",
       "      <td>c3189056-8eda-4278-891f-e8e15c2d759a</td>\n",
       "      <td>71</td>\n",
       "      <td>[KEY, CREDITCARD]</td>\n",
       "      <td>False</td>\n",
       "      <td>40.680974</td>\n",
       "      <td>4199.12</td>\n",
       "      <td>c3189056-8eda-4278-891f-e8e15c2d759a</td>\n",
       "      <td>[]</td>\n",
       "      <td>classic</td>\n",
       "      <td>True</td>\n",
       "      <td>Carlton Ave &amp; Dean St</td>\n",
       "    </tr>\n",
       "  </tbody>\n",
       "</table>\n",
       "</div>"
      ],
      "text/plain": [
       "   capacity legacy_id        lon  \\\n",
       "0        22      3896 -73.906250   \n",
       "1        22      4084 -73.915400   \n",
       "2        57       383 -74.000271   \n",
       "3        20      4487 -73.937878   \n",
       "4        29      3537 -73.971010   \n",
       "\n",
       "                                         rental_uris  \\\n",
       "0  {'android': 'https://bkn.lft.to/lastmile_qr_sc...   \n",
       "1  {'android': 'https://bkn.lft.to/lastmile_qr_sc...   \n",
       "2  {'android': 'https://bkn.lft.to/lastmile_qr_sc...   \n",
       "3  {'android': 'https://bkn.lft.to/lastmile_qr_sc...   \n",
       "4  {'android': 'https://bkn.lft.to/lastmile_qr_sc...   \n",
       "\n",
       "   eightd_has_key_dispenser                            station_id region_id  \\\n",
       "0                     False  26cae473-0e59-4af7-bad5-bb6fec85c8bc        71   \n",
       "1                     False  545a32d3-b74c-4dc2-b82c-a6d185dd4666        71   \n",
       "2                     False  66dbe68e-0aca-11e7-82f6-3863bb44ef7c        71   \n",
       "3                     False  b4974d89-932c-4a9f-a264-2ea0cf70613e        71   \n",
       "4                     False  c3189056-8eda-4278-891f-e8e15c2d759a        71   \n",
       "\n",
       "      rental_methods  electric_bike_surcharge_waiver        lat short_name  \\\n",
       "0  [KEY, CREDITCARD]                           False  40.701830    4880.11   \n",
       "1  [KEY, CREDITCARD]                           False  40.835334    8160.03   \n",
       "2  [KEY, CREDITCARD]                           False  40.735238    5914.08   \n",
       "3  [KEY, CREDITCARD]                           False  40.855331    8458.03   \n",
       "4  [KEY, CREDITCARD]                           False  40.680974    4199.12   \n",
       "\n",
       "                            external_id eightd_station_services station_type  \\\n",
       "0  26cae473-0e59-4af7-bad5-bb6fec85c8bc                      []      classic   \n",
       "1  545a32d3-b74c-4dc2-b82c-a6d185dd4666                      []      classic   \n",
       "2  66dbe68e-0aca-11e7-82f6-3863bb44ef7c                      []      classic   \n",
       "3  b4974d89-932c-4a9f-a264-2ea0cf70613e                      []      classic   \n",
       "4  c3189056-8eda-4278-891f-e8e15c2d759a                      []      classic   \n",
       "\n",
       "   has_kiosk                        name  \n",
       "0       True     Madison St & Seneca Ave  \n",
       "1       True     Sheridan Ave & E 168 St  \n",
       "2       True  Greenwich Ave & Charles St  \n",
       "3       True    Pinehurst Ave & W 187 St  \n",
       "4       True       Carlton Ave & Dean St  "
      ]
     },
     "execution_count": 1,
     "metadata": {},
     "output_type": "execute_result"
    }
   ],
   "source": [
    "#import required libraries like requests, json\n",
    "import requests\n",
    "import json\n",
    "import pandas as pd\n",
    "import numpy as np\n",
    "#Import data from the CityBikes API for the city of Seattle and store it as a json file\n",
    "url = 'https://gbfs.citibikenyc.com/gbfs/en/station_information.json'\n",
    "response = requests.get(url)\n",
    "data = response.json()\n",
    "#Convert the json file to a pandas dataframe\n",
    "df = pd.DataFrame(data['data']['stations'])\n",
    "#Print the first 5 rows of the dataframe\n",
    "df.head()\n",
    " "
   ]
  },
  {
   "cell_type": "code",
   "execution_count": 3,
   "metadata": {},
   "outputs": [
    {
     "data": {
      "text/plain": [
       "0       26cae473-0e59-4af7-bad5-bb6fec85c8bc\n",
       "1       545a32d3-b74c-4dc2-b82c-a6d185dd4666\n",
       "2       66dbe68e-0aca-11e7-82f6-3863bb44ef7c\n",
       "3       b4974d89-932c-4a9f-a264-2ea0cf70613e\n",
       "4       c3189056-8eda-4278-891f-e8e15c2d759a\n",
       "                        ...                 \n",
       "1893                                    5060\n",
       "1894                                    5062\n",
       "1895                                    5071\n",
       "1896                                    5072\n",
       "1897                                    5077\n",
       "Name: station_id, Length: 1898, dtype: object"
      ]
     },
     "execution_count": 3,
     "metadata": {},
     "output_type": "execute_result"
    }
   ],
   "source": [
    "df['station_id']"
   ]
  },
  {
   "cell_type": "code",
   "execution_count": null,
   "metadata": {},
   "outputs": [],
   "source": []
  }
 ],
 "metadata": {
  "kernelspec": {
   "display_name": "base",
   "language": "python",
   "name": "python3"
  },
  "language_info": {
   "codemirror_mode": {
    "name": "ipython",
    "version": 3
   },
   "file_extension": ".py",
   "mimetype": "text/x-python",
   "name": "python",
   "nbconvert_exporter": "python",
   "pygments_lexer": "ipython3",
   "version": "3.8.8"
  },
  "vscode": {
   "interpreter": {
    "hash": "50f277d2a5f86a83668d7aa320596af55daac6c31b976209885141c92eaa0adc"
   }
  }
 },
 "nbformat": 4,
 "nbformat_minor": 4
}
